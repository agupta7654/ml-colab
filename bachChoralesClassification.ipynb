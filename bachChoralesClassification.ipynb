{
  "cells": [
    {
      "cell_type": "markdown",
      "metadata": {
        "id": "view-in-github",
        "colab_type": "text"
      },
      "source": [
        "<a href=\"https://colab.research.google.com/github/agupta7654/ml-colab/blob/main/bachChoralesClassification.ipynb\" target=\"_parent\"><img src=\"https://colab.research.google.com/assets/colab-badge.svg\" alt=\"Open In Colab\"/></a>"
      ]
    },
    {
      "cell_type": "code",
      "execution_count": null,
      "metadata": {
        "colab": {
          "base_uri": "https://localhost:8080/"
        },
        "id": "g9LVNhhF4r0v",
        "outputId": "a2bb8466-98fa-48de-dfc8-6ec670073b69"
      },
      "outputs": [
        {
          "output_type": "stream",
          "name": "stdout",
          "text": [
            "Drive already mounted at /content/drive; to attempt to forcibly remount, call drive.mount(\"/content/drive\", force_remount=True).\n"
          ]
        }
      ],
      "source": [
        "from google.colab import drive\n",
        "drive.mount('/content/drive')"
      ]
    },
    {
      "cell_type": "code",
      "execution_count": null,
      "metadata": {
        "id": "N_ZZg0gj48gr"
      },
      "outputs": [],
      "source": [
        "import pandas as pd\n",
        "import numpy as np\n",
        "import glob\n",
        "import os\n",
        "\n",
        "\n",
        "folder_path = \"/content/drive/MyDrive/Junior Research Project/bach_chorales/jsb_chorales/train\"  # Change this to your actual folder path\n",
        "\n",
        "csv_files = glob.glob(os.path.join(folder_path, \"*.csv\"))\n",
        "df_list = [pd.read_csv(file) for file in csv_files]\n",
        "train = pd.concat(df_list, ignore_index=True)\n",
        "train.columns = ['Bass', 'Tenor', 'Alto', 'Soprano']\n",
        "\n",
        "\n",
        "folder_path = \"/content/drive/MyDrive/Junior Research Project/bach_chorales/jsb_chorales/valid\"  # Change this to your actual folder path\n",
        "\n",
        "csv_files = glob.glob(os.path.join(folder_path, \"*.csv\"))\n",
        "df_list = [pd.read_csv(file) for file in csv_files]\n",
        "validation = pd.concat(df_list, ignore_index=True)\n",
        "validation.columns = ['Bass', 'Tenor', 'Alto', 'Soprano']\n",
        "\n",
        "\n",
        "folder_path = \"/content/drive/MyDrive/Junior Research Project/bach_chorales/jsb_chorales/test\"  # Change this to your actual folder path\n",
        "\n",
        "csv_files = glob.glob(os.path.join(folder_path, \"*.csv\"))\n",
        "df_list = [pd.read_csv(file) for file in csv_files]\n",
        "test = pd.concat(df_list, ignore_index=True)\n",
        "test.columns = ['Bass', 'Tenor', 'Alto', 'Soprano']"
      ]
    },
    {
      "cell_type": "code",
      "execution_count": null,
      "metadata": {
        "id": "ld55beRchus8"
      },
      "outputs": [],
      "source": [
        "train_S = np.array(train['Soprano'])\n",
        "train_A = np.array(train['Alto'])\n",
        "train_T = np.array(train['Tenor'])\n",
        "train_B = np.array(train['Bass'])\n",
        "\n",
        "val_S = np.array(validation['Soprano'])\n",
        "val_A = np.array(validation['Alto'])\n",
        "val_T = np.array(validation['Tenor'])\n",
        "val_B = np.array(validation['Bass'])\n",
        "\n",
        "test_S = np.array(test['Soprano'])\n",
        "test_A = np.array(test['Alto'])\n",
        "test_T = np.array(test['Tenor'])\n",
        "test_B = np.array(test['Bass'])"
      ]
    },
    {
      "cell_type": "code",
      "execution_count": null,
      "metadata": {
        "colab": {
          "base_uri": "https://localhost:8080/",
          "height": 115
        },
        "id": "GiHYpznbjKid",
        "outputId": "25cfa820-aafc-4f39-8c5d-ad4ee81e9240"
      },
      "outputs": [
        {
          "output_type": "execute_result",
          "data": {
            "text/plain": [
              "OneHotEncoder(categories=[array([ 0, 36, 37, 38, 39, 40, 41, 42, 43, 44, 45, 46, 47, 48, 49, 50, 51,\n",
              "       52, 53, 54, 55, 56, 57, 58, 59, 60, 61, 62, 63, 64, 65, 66, 67, 68,\n",
              "       69, 70, 71, 72, 73, 74, 75, 76, 77, 78, 79, 80, 81])])"
            ],
            "text/html": [
              "<style>#sk-container-id-1 {\n",
              "  /* Definition of color scheme common for light and dark mode */\n",
              "  --sklearn-color-text: #000;\n",
              "  --sklearn-color-text-muted: #666;\n",
              "  --sklearn-color-line: gray;\n",
              "  /* Definition of color scheme for unfitted estimators */\n",
              "  --sklearn-color-unfitted-level-0: #fff5e6;\n",
              "  --sklearn-color-unfitted-level-1: #f6e4d2;\n",
              "  --sklearn-color-unfitted-level-2: #ffe0b3;\n",
              "  --sklearn-color-unfitted-level-3: chocolate;\n",
              "  /* Definition of color scheme for fitted estimators */\n",
              "  --sklearn-color-fitted-level-0: #f0f8ff;\n",
              "  --sklearn-color-fitted-level-1: #d4ebff;\n",
              "  --sklearn-color-fitted-level-2: #b3dbfd;\n",
              "  --sklearn-color-fitted-level-3: cornflowerblue;\n",
              "\n",
              "  /* Specific color for light theme */\n",
              "  --sklearn-color-text-on-default-background: var(--sg-text-color, var(--theme-code-foreground, var(--jp-content-font-color1, black)));\n",
              "  --sklearn-color-background: var(--sg-background-color, var(--theme-background, var(--jp-layout-color0, white)));\n",
              "  --sklearn-color-border-box: var(--sg-text-color, var(--theme-code-foreground, var(--jp-content-font-color1, black)));\n",
              "  --sklearn-color-icon: #696969;\n",
              "\n",
              "  @media (prefers-color-scheme: dark) {\n",
              "    /* Redefinition of color scheme for dark theme */\n",
              "    --sklearn-color-text-on-default-background: var(--sg-text-color, var(--theme-code-foreground, var(--jp-content-font-color1, white)));\n",
              "    --sklearn-color-background: var(--sg-background-color, var(--theme-background, var(--jp-layout-color0, #111)));\n",
              "    --sklearn-color-border-box: var(--sg-text-color, var(--theme-code-foreground, var(--jp-content-font-color1, white)));\n",
              "    --sklearn-color-icon: #878787;\n",
              "  }\n",
              "}\n",
              "\n",
              "#sk-container-id-1 {\n",
              "  color: var(--sklearn-color-text);\n",
              "}\n",
              "\n",
              "#sk-container-id-1 pre {\n",
              "  padding: 0;\n",
              "}\n",
              "\n",
              "#sk-container-id-1 input.sk-hidden--visually {\n",
              "  border: 0;\n",
              "  clip: rect(1px 1px 1px 1px);\n",
              "  clip: rect(1px, 1px, 1px, 1px);\n",
              "  height: 1px;\n",
              "  margin: -1px;\n",
              "  overflow: hidden;\n",
              "  padding: 0;\n",
              "  position: absolute;\n",
              "  width: 1px;\n",
              "}\n",
              "\n",
              "#sk-container-id-1 div.sk-dashed-wrapped {\n",
              "  border: 1px dashed var(--sklearn-color-line);\n",
              "  margin: 0 0.4em 0.5em 0.4em;\n",
              "  box-sizing: border-box;\n",
              "  padding-bottom: 0.4em;\n",
              "  background-color: var(--sklearn-color-background);\n",
              "}\n",
              "\n",
              "#sk-container-id-1 div.sk-container {\n",
              "  /* jupyter's `normalize.less` sets `[hidden] { display: none; }`\n",
              "     but bootstrap.min.css set `[hidden] { display: none !important; }`\n",
              "     so we also need the `!important` here to be able to override the\n",
              "     default hidden behavior on the sphinx rendered scikit-learn.org.\n",
              "     See: https://github.com/scikit-learn/scikit-learn/issues/21755 */\n",
              "  display: inline-block !important;\n",
              "  position: relative;\n",
              "}\n",
              "\n",
              "#sk-container-id-1 div.sk-text-repr-fallback {\n",
              "  display: none;\n",
              "}\n",
              "\n",
              "div.sk-parallel-item,\n",
              "div.sk-serial,\n",
              "div.sk-item {\n",
              "  /* draw centered vertical line to link estimators */\n",
              "  background-image: linear-gradient(var(--sklearn-color-text-on-default-background), var(--sklearn-color-text-on-default-background));\n",
              "  background-size: 2px 100%;\n",
              "  background-repeat: no-repeat;\n",
              "  background-position: center center;\n",
              "}\n",
              "\n",
              "/* Parallel-specific style estimator block */\n",
              "\n",
              "#sk-container-id-1 div.sk-parallel-item::after {\n",
              "  content: \"\";\n",
              "  width: 100%;\n",
              "  border-bottom: 2px solid var(--sklearn-color-text-on-default-background);\n",
              "  flex-grow: 1;\n",
              "}\n",
              "\n",
              "#sk-container-id-1 div.sk-parallel {\n",
              "  display: flex;\n",
              "  align-items: stretch;\n",
              "  justify-content: center;\n",
              "  background-color: var(--sklearn-color-background);\n",
              "  position: relative;\n",
              "}\n",
              "\n",
              "#sk-container-id-1 div.sk-parallel-item {\n",
              "  display: flex;\n",
              "  flex-direction: column;\n",
              "}\n",
              "\n",
              "#sk-container-id-1 div.sk-parallel-item:first-child::after {\n",
              "  align-self: flex-end;\n",
              "  width: 50%;\n",
              "}\n",
              "\n",
              "#sk-container-id-1 div.sk-parallel-item:last-child::after {\n",
              "  align-self: flex-start;\n",
              "  width: 50%;\n",
              "}\n",
              "\n",
              "#sk-container-id-1 div.sk-parallel-item:only-child::after {\n",
              "  width: 0;\n",
              "}\n",
              "\n",
              "/* Serial-specific style estimator block */\n",
              "\n",
              "#sk-container-id-1 div.sk-serial {\n",
              "  display: flex;\n",
              "  flex-direction: column;\n",
              "  align-items: center;\n",
              "  background-color: var(--sklearn-color-background);\n",
              "  padding-right: 1em;\n",
              "  padding-left: 1em;\n",
              "}\n",
              "\n",
              "\n",
              "/* Toggleable style: style used for estimator/Pipeline/ColumnTransformer box that is\n",
              "clickable and can be expanded/collapsed.\n",
              "- Pipeline and ColumnTransformer use this feature and define the default style\n",
              "- Estimators will overwrite some part of the style using the `sk-estimator` class\n",
              "*/\n",
              "\n",
              "/* Pipeline and ColumnTransformer style (default) */\n",
              "\n",
              "#sk-container-id-1 div.sk-toggleable {\n",
              "  /* Default theme specific background. It is overwritten whether we have a\n",
              "  specific estimator or a Pipeline/ColumnTransformer */\n",
              "  background-color: var(--sklearn-color-background);\n",
              "}\n",
              "\n",
              "/* Toggleable label */\n",
              "#sk-container-id-1 label.sk-toggleable__label {\n",
              "  cursor: pointer;\n",
              "  display: flex;\n",
              "  width: 100%;\n",
              "  margin-bottom: 0;\n",
              "  padding: 0.5em;\n",
              "  box-sizing: border-box;\n",
              "  text-align: center;\n",
              "  align-items: start;\n",
              "  justify-content: space-between;\n",
              "  gap: 0.5em;\n",
              "}\n",
              "\n",
              "#sk-container-id-1 label.sk-toggleable__label .caption {\n",
              "  font-size: 0.6rem;\n",
              "  font-weight: lighter;\n",
              "  color: var(--sklearn-color-text-muted);\n",
              "}\n",
              "\n",
              "#sk-container-id-1 label.sk-toggleable__label-arrow:before {\n",
              "  /* Arrow on the left of the label */\n",
              "  content: \"▸\";\n",
              "  float: left;\n",
              "  margin-right: 0.25em;\n",
              "  color: var(--sklearn-color-icon);\n",
              "}\n",
              "\n",
              "#sk-container-id-1 label.sk-toggleable__label-arrow:hover:before {\n",
              "  color: var(--sklearn-color-text);\n",
              "}\n",
              "\n",
              "/* Toggleable content - dropdown */\n",
              "\n",
              "#sk-container-id-1 div.sk-toggleable__content {\n",
              "  max-height: 0;\n",
              "  max-width: 0;\n",
              "  overflow: hidden;\n",
              "  text-align: left;\n",
              "  /* unfitted */\n",
              "  background-color: var(--sklearn-color-unfitted-level-0);\n",
              "}\n",
              "\n",
              "#sk-container-id-1 div.sk-toggleable__content.fitted {\n",
              "  /* fitted */\n",
              "  background-color: var(--sklearn-color-fitted-level-0);\n",
              "}\n",
              "\n",
              "#sk-container-id-1 div.sk-toggleable__content pre {\n",
              "  margin: 0.2em;\n",
              "  border-radius: 0.25em;\n",
              "  color: var(--sklearn-color-text);\n",
              "  /* unfitted */\n",
              "  background-color: var(--sklearn-color-unfitted-level-0);\n",
              "}\n",
              "\n",
              "#sk-container-id-1 div.sk-toggleable__content.fitted pre {\n",
              "  /* unfitted */\n",
              "  background-color: var(--sklearn-color-fitted-level-0);\n",
              "}\n",
              "\n",
              "#sk-container-id-1 input.sk-toggleable__control:checked~div.sk-toggleable__content {\n",
              "  /* Expand drop-down */\n",
              "  max-height: 200px;\n",
              "  max-width: 100%;\n",
              "  overflow: auto;\n",
              "}\n",
              "\n",
              "#sk-container-id-1 input.sk-toggleable__control:checked~label.sk-toggleable__label-arrow:before {\n",
              "  content: \"▾\";\n",
              "}\n",
              "\n",
              "/* Pipeline/ColumnTransformer-specific style */\n",
              "\n",
              "#sk-container-id-1 div.sk-label input.sk-toggleable__control:checked~label.sk-toggleable__label {\n",
              "  color: var(--sklearn-color-text);\n",
              "  background-color: var(--sklearn-color-unfitted-level-2);\n",
              "}\n",
              "\n",
              "#sk-container-id-1 div.sk-label.fitted input.sk-toggleable__control:checked~label.sk-toggleable__label {\n",
              "  background-color: var(--sklearn-color-fitted-level-2);\n",
              "}\n",
              "\n",
              "/* Estimator-specific style */\n",
              "\n",
              "/* Colorize estimator box */\n",
              "#sk-container-id-1 div.sk-estimator input.sk-toggleable__control:checked~label.sk-toggleable__label {\n",
              "  /* unfitted */\n",
              "  background-color: var(--sklearn-color-unfitted-level-2);\n",
              "}\n",
              "\n",
              "#sk-container-id-1 div.sk-estimator.fitted input.sk-toggleable__control:checked~label.sk-toggleable__label {\n",
              "  /* fitted */\n",
              "  background-color: var(--sklearn-color-fitted-level-2);\n",
              "}\n",
              "\n",
              "#sk-container-id-1 div.sk-label label.sk-toggleable__label,\n",
              "#sk-container-id-1 div.sk-label label {\n",
              "  /* The background is the default theme color */\n",
              "  color: var(--sklearn-color-text-on-default-background);\n",
              "}\n",
              "\n",
              "/* On hover, darken the color of the background */\n",
              "#sk-container-id-1 div.sk-label:hover label.sk-toggleable__label {\n",
              "  color: var(--sklearn-color-text);\n",
              "  background-color: var(--sklearn-color-unfitted-level-2);\n",
              "}\n",
              "\n",
              "/* Label box, darken color on hover, fitted */\n",
              "#sk-container-id-1 div.sk-label.fitted:hover label.sk-toggleable__label.fitted {\n",
              "  color: var(--sklearn-color-text);\n",
              "  background-color: var(--sklearn-color-fitted-level-2);\n",
              "}\n",
              "\n",
              "/* Estimator label */\n",
              "\n",
              "#sk-container-id-1 div.sk-label label {\n",
              "  font-family: monospace;\n",
              "  font-weight: bold;\n",
              "  display: inline-block;\n",
              "  line-height: 1.2em;\n",
              "}\n",
              "\n",
              "#sk-container-id-1 div.sk-label-container {\n",
              "  text-align: center;\n",
              "}\n",
              "\n",
              "/* Estimator-specific */\n",
              "#sk-container-id-1 div.sk-estimator {\n",
              "  font-family: monospace;\n",
              "  border: 1px dotted var(--sklearn-color-border-box);\n",
              "  border-radius: 0.25em;\n",
              "  box-sizing: border-box;\n",
              "  margin-bottom: 0.5em;\n",
              "  /* unfitted */\n",
              "  background-color: var(--sklearn-color-unfitted-level-0);\n",
              "}\n",
              "\n",
              "#sk-container-id-1 div.sk-estimator.fitted {\n",
              "  /* fitted */\n",
              "  background-color: var(--sklearn-color-fitted-level-0);\n",
              "}\n",
              "\n",
              "/* on hover */\n",
              "#sk-container-id-1 div.sk-estimator:hover {\n",
              "  /* unfitted */\n",
              "  background-color: var(--sklearn-color-unfitted-level-2);\n",
              "}\n",
              "\n",
              "#sk-container-id-1 div.sk-estimator.fitted:hover {\n",
              "  /* fitted */\n",
              "  background-color: var(--sklearn-color-fitted-level-2);\n",
              "}\n",
              "\n",
              "/* Specification for estimator info (e.g. \"i\" and \"?\") */\n",
              "\n",
              "/* Common style for \"i\" and \"?\" */\n",
              "\n",
              ".sk-estimator-doc-link,\n",
              "a:link.sk-estimator-doc-link,\n",
              "a:visited.sk-estimator-doc-link {\n",
              "  float: right;\n",
              "  font-size: smaller;\n",
              "  line-height: 1em;\n",
              "  font-family: monospace;\n",
              "  background-color: var(--sklearn-color-background);\n",
              "  border-radius: 1em;\n",
              "  height: 1em;\n",
              "  width: 1em;\n",
              "  text-decoration: none !important;\n",
              "  margin-left: 0.5em;\n",
              "  text-align: center;\n",
              "  /* unfitted */\n",
              "  border: var(--sklearn-color-unfitted-level-1) 1pt solid;\n",
              "  color: var(--sklearn-color-unfitted-level-1);\n",
              "}\n",
              "\n",
              ".sk-estimator-doc-link.fitted,\n",
              "a:link.sk-estimator-doc-link.fitted,\n",
              "a:visited.sk-estimator-doc-link.fitted {\n",
              "  /* fitted */\n",
              "  border: var(--sklearn-color-fitted-level-1) 1pt solid;\n",
              "  color: var(--sklearn-color-fitted-level-1);\n",
              "}\n",
              "\n",
              "/* On hover */\n",
              "div.sk-estimator:hover .sk-estimator-doc-link:hover,\n",
              ".sk-estimator-doc-link:hover,\n",
              "div.sk-label-container:hover .sk-estimator-doc-link:hover,\n",
              ".sk-estimator-doc-link:hover {\n",
              "  /* unfitted */\n",
              "  background-color: var(--sklearn-color-unfitted-level-3);\n",
              "  color: var(--sklearn-color-background);\n",
              "  text-decoration: none;\n",
              "}\n",
              "\n",
              "div.sk-estimator.fitted:hover .sk-estimator-doc-link.fitted:hover,\n",
              ".sk-estimator-doc-link.fitted:hover,\n",
              "div.sk-label-container:hover .sk-estimator-doc-link.fitted:hover,\n",
              ".sk-estimator-doc-link.fitted:hover {\n",
              "  /* fitted */\n",
              "  background-color: var(--sklearn-color-fitted-level-3);\n",
              "  color: var(--sklearn-color-background);\n",
              "  text-decoration: none;\n",
              "}\n",
              "\n",
              "/* Span, style for the box shown on hovering the info icon */\n",
              ".sk-estimator-doc-link span {\n",
              "  display: none;\n",
              "  z-index: 9999;\n",
              "  position: relative;\n",
              "  font-weight: normal;\n",
              "  right: .2ex;\n",
              "  padding: .5ex;\n",
              "  margin: .5ex;\n",
              "  width: min-content;\n",
              "  min-width: 20ex;\n",
              "  max-width: 50ex;\n",
              "  color: var(--sklearn-color-text);\n",
              "  box-shadow: 2pt 2pt 4pt #999;\n",
              "  /* unfitted */\n",
              "  background: var(--sklearn-color-unfitted-level-0);\n",
              "  border: .5pt solid var(--sklearn-color-unfitted-level-3);\n",
              "}\n",
              "\n",
              ".sk-estimator-doc-link.fitted span {\n",
              "  /* fitted */\n",
              "  background: var(--sklearn-color-fitted-level-0);\n",
              "  border: var(--sklearn-color-fitted-level-3);\n",
              "}\n",
              "\n",
              ".sk-estimator-doc-link:hover span {\n",
              "  display: block;\n",
              "}\n",
              "\n",
              "/* \"?\"-specific style due to the `<a>` HTML tag */\n",
              "\n",
              "#sk-container-id-1 a.estimator_doc_link {\n",
              "  float: right;\n",
              "  font-size: 1rem;\n",
              "  line-height: 1em;\n",
              "  font-family: monospace;\n",
              "  background-color: var(--sklearn-color-background);\n",
              "  border-radius: 1rem;\n",
              "  height: 1rem;\n",
              "  width: 1rem;\n",
              "  text-decoration: none;\n",
              "  /* unfitted */\n",
              "  color: var(--sklearn-color-unfitted-level-1);\n",
              "  border: var(--sklearn-color-unfitted-level-1) 1pt solid;\n",
              "}\n",
              "\n",
              "#sk-container-id-1 a.estimator_doc_link.fitted {\n",
              "  /* fitted */\n",
              "  border: var(--sklearn-color-fitted-level-1) 1pt solid;\n",
              "  color: var(--sklearn-color-fitted-level-1);\n",
              "}\n",
              "\n",
              "/* On hover */\n",
              "#sk-container-id-1 a.estimator_doc_link:hover {\n",
              "  /* unfitted */\n",
              "  background-color: var(--sklearn-color-unfitted-level-3);\n",
              "  color: var(--sklearn-color-background);\n",
              "  text-decoration: none;\n",
              "}\n",
              "\n",
              "#sk-container-id-1 a.estimator_doc_link.fitted:hover {\n",
              "  /* fitted */\n",
              "  background-color: var(--sklearn-color-fitted-level-3);\n",
              "}\n",
              "</style><div id=\"sk-container-id-1\" class=\"sk-top-container\"><div class=\"sk-text-repr-fallback\"><pre>OneHotEncoder(categories=[array([ 0, 36, 37, 38, 39, 40, 41, 42, 43, 44, 45, 46, 47, 48, 49, 50, 51,\n",
              "       52, 53, 54, 55, 56, 57, 58, 59, 60, 61, 62, 63, 64, 65, 66, 67, 68,\n",
              "       69, 70, 71, 72, 73, 74, 75, 76, 77, 78, 79, 80, 81])])</pre><b>In a Jupyter environment, please rerun this cell to show the HTML representation or trust the notebook. <br />On GitHub, the HTML representation is unable to render, please try loading this page with nbviewer.org.</b></div><div class=\"sk-container\" hidden><div class=\"sk-item\"><div class=\"sk-estimator fitted sk-toggleable\"><input class=\"sk-toggleable__control sk-hidden--visually\" id=\"sk-estimator-id-1\" type=\"checkbox\" checked><label for=\"sk-estimator-id-1\" class=\"sk-toggleable__label fitted sk-toggleable__label-arrow\"><div><div>OneHotEncoder</div></div><div><a class=\"sk-estimator-doc-link fitted\" rel=\"noreferrer\" target=\"_blank\" href=\"https://scikit-learn.org/1.6/modules/generated/sklearn.preprocessing.OneHotEncoder.html\">?<span>Documentation for OneHotEncoder</span></a><span class=\"sk-estimator-doc-link fitted\">i<span>Fitted</span></span></div></label><div class=\"sk-toggleable__content fitted\"><pre>OneHotEncoder(categories=[array([ 0, 36, 37, 38, 39, 40, 41, 42, 43, 44, 45, 46, 47, 48, 49, 50, 51,\n",
              "       52, 53, 54, 55, 56, 57, 58, 59, 60, 61, 62, 63, 64, 65, 66, 67, 68,\n",
              "       69, 70, 71, 72, 73, 74, 75, 76, 77, 78, 79, 80, 81])])</pre></div> </div></div></div></div>"
            ]
          },
          "metadata": {},
          "execution_count": 5
        }
      ],
      "source": [
        "from sklearn.preprocessing import OneHotEncoder\n",
        "\n",
        "all_values = np.concatenate([\n",
        "    train_S, train_A, train_T, train_B,\n",
        "    val_S, val_A, val_T, val_B,\n",
        "    test_S, test_A, test_T, test_B\n",
        "])\n",
        "\n",
        "unique_values = np.unique(all_values)\n",
        "\n",
        "encoder = OneHotEncoder(categories=[unique_values])\n",
        "\n",
        "encoder.fit(unique_values.reshape(-1,1))"
      ]
    },
    {
      "cell_type": "code",
      "execution_count": null,
      "metadata": {
        "id": "DfrsZNb96ZLn"
      },
      "outputs": [],
      "source": [
        "X_train = []\n",
        "y_train_S = []  # Soprano\n",
        "y_train_A = []  # Alto\n",
        "y_train_T = []  # Tenor\n",
        "y_train_B = []  # Bass\n",
        "\n",
        "X_val = []\n",
        "y_val_S = []  # Soprano\n",
        "y_val_A = []  # Alto\n",
        "y_val_T = []  # Tenor\n",
        "y_val_B = []  # Bass\n",
        "\n",
        "X_test = []\n",
        "y_test_S = []  # Soprano\n",
        "y_test_A = []  # Alto\n",
        "y_test_T = []  # Tenor\n",
        "y_test_B = []  # Bass\n",
        "\n",
        "size = 128\n",
        "train_values = train.values\n",
        "validation_values = validation.values\n",
        "test_values = test.values\n",
        "\n",
        "# Assuming that Bass, Tenor, Alto, Soprano are already one-hot encoded.\n",
        "\n",
        "# Iterate over the data for training\n",
        "for i in range(size, len(train_values) - 1):\n",
        "    X_train.append(train_values[i - size:i])  # Collect the last 'size' time steps\n",
        "    # One-hot encode each voice part separately and add to y_train\n",
        "    y_train_S.append(encoder.transform(train_values[i + 1, 0].reshape(-1, 1)).toarray())\n",
        "    y_train_A.append(encoder.transform(train_values[i + 1, 1].reshape(-1, 1)).toarray())\n",
        "    y_train_T.append(encoder.transform(train_values[i + 1, 2].reshape(-1, 1)).toarray())\n",
        "    y_train_B.append(encoder.transform(train_values[i + 1, 3].reshape(-1, 1)).toarray())\n",
        "\n",
        "# Iterate over the validation data\n",
        "for i in range(size, len(validation_values) - 1):\n",
        "    X_val.append(validation_values[i - size:i])\n",
        "    y_val_S.append(encoder.transform(validation_values[i + 1, 0].reshape(-1, 1)).toarray())\n",
        "    y_val_A.append(encoder.transform(validation_values[i + 1, 1].reshape(-1, 1)).toarray())\n",
        "    y_val_T.append(encoder.transform(validation_values[i + 1, 2].reshape(-1, 1)).toarray())\n",
        "    y_val_B.append(encoder.transform(validation_values[i + 1, 3].reshape(-1, 1)).toarray())\n",
        "\n",
        "# Iterate over the test data\n",
        "for i in range(size, len(test_values) - 1):\n",
        "    X_test.append(test_values[i - size:i])\n",
        "    y_test_S.append(encoder.transform(test_values[i + 1, 0].reshape(-1, 1)).toarray())\n",
        "    y_test_A.append(encoder.transform(test_values[i + 1, 1].reshape(-1, 1)).toarray())\n",
        "    y_test_T.append(encoder.transform(test_values[i + 1, 2].reshape(-1, 1)).toarray())\n",
        "    y_test_B.append(encoder.transform(test_values[i + 1, 3].reshape(-1, 1)).toarray())\n",
        "\n",
        "# Convert to numpy arrays\n",
        "X_train = np.array(X_train).reshape(-1, size, 4)\n",
        "X_val = np.array(X_val).reshape(-1, size, 4)\n",
        "X_test = np.array(X_test).reshape(-1, size, 4)\n",
        "\n",
        "y_train_S = np.array(y_train_S)\n",
        "y_train_A = np.array(y_train_A)\n",
        "y_train_T = np.array(y_train_T)\n",
        "y_train_B = np.array(y_train_B)\n",
        "\n",
        "y_val_S = np.array(y_val_S)\n",
        "y_val_A = np.array(y_val_A)\n",
        "y_val_T = np.array(y_val_T)\n",
        "y_val_B = np.array(y_val_B)\n",
        "\n",
        "y_test_S = np.array(y_test_S)\n",
        "y_test_A = np.array(y_test_A)\n",
        "y_test_T = np.array(y_test_T)\n",
        "y_test_B = np.array(y_test_B)"
      ]
    },
    {
      "cell_type": "code",
      "execution_count": null,
      "metadata": {
        "id": "p5b5bV5grXb1",
        "colab": {
          "base_uri": "https://localhost:8080/"
        },
        "outputId": "388b80d0-e7e3-49e8-c620-27d35d9dbc55"
      },
      "outputs": [
        {
          "output_type": "execute_result",
          "data": {
            "text/plain": [
              "array([[0., 0., 0., ..., 0., 0., 0.],\n",
              "       [0., 0., 0., ..., 0., 0., 0.],\n",
              "       [0., 0., 0., ..., 0., 0., 0.],\n",
              "       ...,\n",
              "       [0., 0., 0., ..., 0., 0., 0.],\n",
              "       [0., 0., 0., ..., 0., 0., 0.],\n",
              "       [0., 0., 0., ..., 0., 0., 0.]])"
            ]
          },
          "metadata": {},
          "execution_count": 11
        }
      ],
      "source": [
        "# y_train_S = np.squeeze(y_train_S, axis=1)\n",
        "# y_train_A = np.squeeze(y_train_A, axis=1)\n",
        "# y_train_T = np.squeeze(y_train_T, axis=1)\n",
        "# y_train_B = np.squeeze(y_train_B, axis=1)\n",
        "\n",
        "# y_val_S = np.squeeze(y_val_S, axis=1)\n",
        "# y_val_A = np.squeeze(y_val_A, axis=1)\n",
        "# y_val_T = np.squeeze(y_val_T, axis=1)\n",
        "# y_val_B = np.squeeze(y_val_B, axis=1)\n",
        "\n",
        "# y_test_S = np.squeeze(y_test_S, axis=1)\n",
        "# y_test_A = np.squeeze(y_test_A, axis=1)\n",
        "# y_test_T = np.squeeze(y_test_T, axis=1)\n",
        "# y_test_B = np.squeeze(y_test_B, axis=1)"
      ]
    },
    {
      "cell_type": "code",
      "source": [
        "if False:\n",
        "  input_layer = Input(shape=(size,4))\n",
        "\n",
        "  # embedding = Embedding(input_dim=128, output_dim=64)(input_layer)\n",
        "\n",
        "  gru_output = GRU(128, return_sequences=False)(input_layer)\n",
        "\n",
        "  soprano_out = Dense(47, name=\"Soprano\")(gru_output)\n",
        "  alto_out = Dense(47, name=\"Alto\")(gru_output)\n",
        "  tenor_out = Dense(47, name=\"Tenor\")(gru_output)\n",
        "  bass_out = Dense(47, name=\"Bass\")(gru_output)\n",
        "\n",
        "  model = Model(inputs=input_layer, outputs=[soprano_out, alto_out, tenor_out, bass_out])\n",
        "\n",
        "  model.compile(optimizer='adam', loss='categorical_crossentropy')"
      ],
      "metadata": {
        "id": "Z4RwuHDuw_KM"
      },
      "execution_count": null,
      "outputs": []
    },
    {
      "cell_type": "code",
      "execution_count": null,
      "metadata": {
        "colab": {
          "base_uri": "https://localhost:8080/"
        },
        "id": "6UT5MxNUnJp_",
        "outputId": "e7baee19-7d7d-431d-e16a-ed0cf9d6ad56"
      },
      "outputs": [
        {
          "output_type": "stream",
          "name": "stderr",
          "text": [
            "WARNING:absl:Compiled the loaded model, but the compiled metrics have yet to be built. `model.compile_metrics` will be empty until you train or evaluate the model.\n"
          ]
        },
        {
          "output_type": "stream",
          "name": "stdout",
          "text": [
            "Epoch 1/2\n",
            "\u001b[1m54/54\u001b[0m \u001b[32m━━━━━━━━━━━━━━━━━━━━\u001b[0m\u001b[37m\u001b[0m \u001b[1m0s\u001b[0m 2s/step - Alto_accuracy: 2.7834e-04 - Alto_loss: 7.9235 - Bass_accuracy: 0.0061 - Bass_loss: 8.8164 - Soprano_accuracy: 6.2752e-05 - Soprano_loss: 8.0852 - Tenor_accuracy: 0.1586 - Tenor_loss: 8.9369 - loss: 33.7623"
          ]
        },
        {
          "output_type": "stream",
          "name": "stderr",
          "text": [
            "WARNING:absl:You are saving your model as an HDF5 file via `model.save()` or `keras.saving.save_model(model)`. This file format is considered legacy. We recommend using instead the native Keras format, e.g. `model.save('my_model.keras')` or `keras.saving.save_model(model, 'my_model.keras')`. \n"
          ]
        },
        {
          "output_type": "stream",
          "name": "stdout",
          "text": [
            "\b\b\b\b\b\b\b\b\b\b\b\b\b\b\b\b\b\b\b\b\b\b\b\b\b\b\b\b\b\b\b\b\b\b\b\b\b\b\b\b\b\b\b\b\b\b\b\b\b\b\b\b\b\b\b\b\b\b\b\b\b\b\b\b\b\b\b\b\b\b\b\b\b\b\b\b\b\b\b\b\b\b\b\b\b\b\b\b\b\b\b\b\b\b\b\b\b\b\b\b\b\b\b\b\b\b\b\b\b\b\b\b\b\b\b\b\b\b\b\b\b\b\b\b\b\b\b\b\b\b\b\b\b\b\b\b\b\b\b\b\b\b\b\b\b\b\b\b\b\b\b\b\b\b\b\b\b\b\b\b\b\b\b\b\b\b\b\b\b\b\b\b\b\b\b\b\b\b\b\b\b\b\b\b\b\b\b\b\b\b\b\b\b\b\b\b\b\b\b\b\b\b\b\b\b\b\b\b\b\b\b\b\b\b\b\b\b\b\b\b\b\b\b\b\b\b\b\b\b\b\b\b\b\b\b\b\b\b\b\b\b\b\b\b\b\r\u001b[1m54/54\u001b[0m \u001b[32m━━━━━━━━━━━━━━━━━━━━\u001b[0m\u001b[37m\u001b[0m \u001b[1m138s\u001b[0m 2s/step - Alto_accuracy: 2.7955e-04 - Alto_loss: 7.9252 - Bass_accuracy: 0.0061 - Bass_loss: 8.8086 - Soprano_accuracy: 6.2271e-05 - Soprano_loss: 8.0901 - Tenor_accuracy: 0.1586 - Tenor_loss: 8.9280 - loss: 33.7524 - val_Alto_accuracy: 0.0014 - val_Alto_loss: 10.2828 - val_Bass_accuracy: 0.0057 - val_Bass_loss: 6.7625 - val_Soprano_accuracy: 0.0039 - val_Soprano_loss: 7.9825 - val_Tenor_accuracy: 0.1675 - val_Tenor_loss: 6.2588 - val_loss: 31.3120\n",
            "Epoch 2/2\n",
            "\u001b[1m54/54\u001b[0m \u001b[32m━━━━━━━━━━━━━━━━━━━━\u001b[0m\u001b[37m\u001b[0m \u001b[1m0s\u001b[0m 2s/step - Alto_accuracy: 3.1173e-04 - Alto_loss: 8.3267 - Bass_accuracy: 0.0049 - Bass_loss: 9.6585 - Soprano_accuracy: 7.7435e-04 - Soprano_loss: 7.2442 - Tenor_accuracy: 0.1583 - Tenor_loss: 6.2937 - loss: 31.5231"
          ]
        },
        {
          "output_type": "stream",
          "name": "stderr",
          "text": [
            "WARNING:absl:You are saving your model as an HDF5 file via `model.save()` or `keras.saving.save_model(model)`. This file format is considered legacy. We recommend using instead the native Keras format, e.g. `model.save('my_model.keras')` or `keras.saving.save_model(model, 'my_model.keras')`. \n"
          ]
        },
        {
          "output_type": "stream",
          "name": "stdout",
          "text": [
            "\b\b\b\b\b\b\b\b\b\b\b\b\b\b\b\b\b\b\b\b\b\b\b\b\b\b\b\b\b\b\b\b\b\b\b\b\b\b\b\b\b\b\b\b\b\b\b\b\b\b\b\b\b\b\b\b\b\b\b\b\b\b\b\b\b\b\b\b\b\b\b\b\b\b\b\b\b\b\b\b\b\b\b\b\b\b\b\b\b\b\b\b\b\b\b\b\b\b\b\b\b\b\b\b\b\b\b\b\b\b\b\b\b\b\b\b\b\b\b\b\b\b\b\b\b\b\b\b\b\b\b\b\b\b\b\b\b\b\b\b\b\b\b\b\b\b\b\b\b\b\b\b\b\b\b\b\b\b\b\b\b\b\b\b\b\b\b\b\b\b\b\b\b\b\b\b\b\b\b\b\b\b\b\b\b\b\b\b\b\b\b\b\b\b\b\b\b\b\b\b\b\b\b\b\b\b\b\b\b\b\b\b\b\b\b\b\b\b\b\b\b\b\b\b\b\b\b\b\b\b\b\b\b\b\b\b\b\b\b\b\b\b\b\b\b\r\u001b[1m54/54\u001b[0m \u001b[32m━━━━━━━━━━━━━━━━━━━━\u001b[0m\u001b[37m\u001b[0m \u001b[1m140s\u001b[0m 2s/step - Alto_accuracy: 3.1201e-04 - Alto_loss: 8.3017 - Bass_accuracy: 0.0049 - Bass_loss: 9.6669 - Soprano_accuracy: 7.7479e-04 - Soprano_loss: 7.2428 - Tenor_accuracy: 0.1583 - Tenor_loss: 6.3053 - loss: 31.5167 - val_Alto_accuracy: 0.0014 - val_Alto_loss: 5.8323 - val_Bass_accuracy: 0.0033 - val_Bass_loss: 9.9975 - val_Soprano_accuracy: 0.0040 - val_Soprano_loss: 7.0214 - val_Tenor_accuracy: 0.1676 - val_Tenor_loss: 7.6632 - val_loss: 30.5171\n"
          ]
        },
        {
          "output_type": "execute_result",
          "data": {
            "text/plain": [
              "<keras.src.callbacks.history.History at 0x7e99e04a0990>"
            ]
          },
          "metadata": {},
          "execution_count": 17
        }
      ],
      "source": [
        "import tensorflow as tf\n",
        "from tensorflow.keras.models import Sequential\n",
        "from tensorflow.keras.layers import GRU, Dense, Input\n",
        "from tensorflow.keras.optimizers import Adam\n",
        "from tensorflow.keras.callbacks import ModelCheckpoint\n",
        "from tensorflow.keras.models import load_model\n",
        "save_path = '/content/drive/MyDrive/Junior Research Project/bach_chorales/best_model_bachChorales_Classification.h5'\n",
        "\n",
        "model = load_model(save_path)\n",
        "\n",
        "# Compile the model with separate metrics for each output\n",
        "model.compile(\n",
        "    optimizer=Adam(),\n",
        "    loss={'Soprano': 'categorical_crossentropy',\n",
        "          'Alto': 'categorical_crossentropy',\n",
        "          'Tenor': 'categorical_crossentropy',\n",
        "          'Bass': 'categorical_crossentropy'},\n",
        "    metrics={'Soprano': ['accuracy'],\n",
        "             'Alto': ['accuracy'],\n",
        "             'Tenor': ['accuracy'],\n",
        "             'Bass': ['accuracy']}\n",
        ")\n",
        "\n",
        "checkpoint_callback = ModelCheckpoint(\n",
        "    save_path,\n",
        "    monitor='val_loss',\n",
        "    save_best_only=True,\n",
        "    mode='min',\n",
        "    verbose=0\n",
        ")\n",
        "\n",
        "\n",
        "model.fit(X_train, {'Soprano': y_train_S, 'Alto': y_train_A, 'Tenor': y_train_T, 'Bass': y_train_B}, epochs=2, batch_size=1024, validation_data=(X_val, {'Soprano': y_val_S, 'Alto': y_val_A, 'Tenor': y_val_T, 'Bass': y_val_B}), callbacks=[checkpoint_callback])\n",
        "\n"
      ]
    },
    {
      "cell_type": "code",
      "execution_count": null,
      "metadata": {
        "colab": {
          "base_uri": "https://localhost:8080/",
          "height": 353
        },
        "id": "K5rkrDIcqkj-",
        "outputId": "b3a8fdfd-c5c0-49d2-b9c0-977067b6420e"
      },
      "outputs": [
        {
          "output_type": "display_data",
          "data": {
            "text/plain": [
              "\u001b[1mModel: \"functional_4\"\u001b[0m\n"
            ],
            "text/html": [
              "<pre style=\"white-space:pre;overflow-x:auto;line-height:normal;font-family:Menlo,'DejaVu Sans Mono',consolas,'Courier New',monospace\"><span style=\"font-weight: bold\">Model: \"functional_4\"</span>\n",
              "</pre>\n"
            ]
          },
          "metadata": {}
        },
        {
          "output_type": "display_data",
          "data": {
            "text/plain": [
              "┏━━━━━━━━━━━━━━━━━━━━━━━━━━━┳━━━━━━━━━━━━━━━━━━━━━━━━┳━━━━━━━━━━━━━━━━┳━━━━━━━━━━━━━━━━━━━━━━━━┓\n",
              "┃\u001b[1m \u001b[0m\u001b[1mLayer (type)             \u001b[0m\u001b[1m \u001b[0m┃\u001b[1m \u001b[0m\u001b[1mOutput Shape          \u001b[0m\u001b[1m \u001b[0m┃\u001b[1m \u001b[0m\u001b[1m       Param #\u001b[0m\u001b[1m \u001b[0m┃\u001b[1m \u001b[0m\u001b[1mConnected to          \u001b[0m\u001b[1m \u001b[0m┃\n",
              "┡━━━━━━━━━━━━━━━━━━━━━━━━━━━╇━━━━━━━━━━━━━━━━━━━━━━━━╇━━━━━━━━━━━━━━━━╇━━━━━━━━━━━━━━━━━━━━━━━━┩\n",
              "│ input_layer_4             │ (\u001b[38;5;45mNone\u001b[0m, \u001b[38;5;34m128\u001b[0m, \u001b[38;5;34m4\u001b[0m)         │              \u001b[38;5;34m0\u001b[0m │ -                      │\n",
              "│ (\u001b[38;5;33mInputLayer\u001b[0m)              │                        │                │                        │\n",
              "├───────────────────────────┼────────────────────────┼────────────────┼────────────────────────┤\n",
              "│ gru_4 (\u001b[38;5;33mGRU\u001b[0m)               │ (\u001b[38;5;45mNone\u001b[0m, \u001b[38;5;34m128\u001b[0m)            │         \u001b[38;5;34m51,456\u001b[0m │ input_layer_4[\u001b[38;5;34m0\u001b[0m][\u001b[38;5;34m0\u001b[0m]    │\n",
              "├───────────────────────────┼────────────────────────┼────────────────┼────────────────────────┤\n",
              "│ Soprano (\u001b[38;5;33mDense\u001b[0m)           │ (\u001b[38;5;45mNone\u001b[0m, \u001b[38;5;34m47\u001b[0m)             │          \u001b[38;5;34m6,063\u001b[0m │ gru_4[\u001b[38;5;34m0\u001b[0m][\u001b[38;5;34m0\u001b[0m]            │\n",
              "├───────────────────────────┼────────────────────────┼────────────────┼────────────────────────┤\n",
              "│ Alto (\u001b[38;5;33mDense\u001b[0m)              │ (\u001b[38;5;45mNone\u001b[0m, \u001b[38;5;34m47\u001b[0m)             │          \u001b[38;5;34m6,063\u001b[0m │ gru_4[\u001b[38;5;34m0\u001b[0m][\u001b[38;5;34m0\u001b[0m]            │\n",
              "├───────────────────────────┼────────────────────────┼────────────────┼────────────────────────┤\n",
              "│ Tenor (\u001b[38;5;33mDense\u001b[0m)             │ (\u001b[38;5;45mNone\u001b[0m, \u001b[38;5;34m47\u001b[0m)             │          \u001b[38;5;34m6,063\u001b[0m │ gru_4[\u001b[38;5;34m0\u001b[0m][\u001b[38;5;34m0\u001b[0m]            │\n",
              "├───────────────────────────┼────────────────────────┼────────────────┼────────────────────────┤\n",
              "│ Bass (\u001b[38;5;33mDense\u001b[0m)              │ (\u001b[38;5;45mNone\u001b[0m, \u001b[38;5;34m47\u001b[0m)             │          \u001b[38;5;34m6,063\u001b[0m │ gru_4[\u001b[38;5;34m0\u001b[0m][\u001b[38;5;34m0\u001b[0m]            │\n",
              "└───────────────────────────┴────────────────────────┴────────────────┴────────────────────────┘\n"
            ],
            "text/html": [
              "<pre style=\"white-space:pre;overflow-x:auto;line-height:normal;font-family:Menlo,'DejaVu Sans Mono',consolas,'Courier New',monospace\">┏━━━━━━━━━━━━━━━━━━━━━━━━━━━┳━━━━━━━━━━━━━━━━━━━━━━━━┳━━━━━━━━━━━━━━━━┳━━━━━━━━━━━━━━━━━━━━━━━━┓\n",
              "┃<span style=\"font-weight: bold\"> Layer (type)              </span>┃<span style=\"font-weight: bold\"> Output Shape           </span>┃<span style=\"font-weight: bold\">        Param # </span>┃<span style=\"font-weight: bold\"> Connected to           </span>┃\n",
              "┡━━━━━━━━━━━━━━━━━━━━━━━━━━━╇━━━━━━━━━━━━━━━━━━━━━━━━╇━━━━━━━━━━━━━━━━╇━━━━━━━━━━━━━━━━━━━━━━━━┩\n",
              "│ input_layer_4             │ (<span style=\"color: #00d7ff; text-decoration-color: #00d7ff\">None</span>, <span style=\"color: #00af00; text-decoration-color: #00af00\">128</span>, <span style=\"color: #00af00; text-decoration-color: #00af00\">4</span>)         │              <span style=\"color: #00af00; text-decoration-color: #00af00\">0</span> │ -                      │\n",
              "│ (<span style=\"color: #0087ff; text-decoration-color: #0087ff\">InputLayer</span>)              │                        │                │                        │\n",
              "├───────────────────────────┼────────────────────────┼────────────────┼────────────────────────┤\n",
              "│ gru_4 (<span style=\"color: #0087ff; text-decoration-color: #0087ff\">GRU</span>)               │ (<span style=\"color: #00d7ff; text-decoration-color: #00d7ff\">None</span>, <span style=\"color: #00af00; text-decoration-color: #00af00\">128</span>)            │         <span style=\"color: #00af00; text-decoration-color: #00af00\">51,456</span> │ input_layer_4[<span style=\"color: #00af00; text-decoration-color: #00af00\">0</span>][<span style=\"color: #00af00; text-decoration-color: #00af00\">0</span>]    │\n",
              "├───────────────────────────┼────────────────────────┼────────────────┼────────────────────────┤\n",
              "│ Soprano (<span style=\"color: #0087ff; text-decoration-color: #0087ff\">Dense</span>)           │ (<span style=\"color: #00d7ff; text-decoration-color: #00d7ff\">None</span>, <span style=\"color: #00af00; text-decoration-color: #00af00\">47</span>)             │          <span style=\"color: #00af00; text-decoration-color: #00af00\">6,063</span> │ gru_4[<span style=\"color: #00af00; text-decoration-color: #00af00\">0</span>][<span style=\"color: #00af00; text-decoration-color: #00af00\">0</span>]            │\n",
              "├───────────────────────────┼────────────────────────┼────────────────┼────────────────────────┤\n",
              "│ Alto (<span style=\"color: #0087ff; text-decoration-color: #0087ff\">Dense</span>)              │ (<span style=\"color: #00d7ff; text-decoration-color: #00d7ff\">None</span>, <span style=\"color: #00af00; text-decoration-color: #00af00\">47</span>)             │          <span style=\"color: #00af00; text-decoration-color: #00af00\">6,063</span> │ gru_4[<span style=\"color: #00af00; text-decoration-color: #00af00\">0</span>][<span style=\"color: #00af00; text-decoration-color: #00af00\">0</span>]            │\n",
              "├───────────────────────────┼────────────────────────┼────────────────┼────────────────────────┤\n",
              "│ Tenor (<span style=\"color: #0087ff; text-decoration-color: #0087ff\">Dense</span>)             │ (<span style=\"color: #00d7ff; text-decoration-color: #00d7ff\">None</span>, <span style=\"color: #00af00; text-decoration-color: #00af00\">47</span>)             │          <span style=\"color: #00af00; text-decoration-color: #00af00\">6,063</span> │ gru_4[<span style=\"color: #00af00; text-decoration-color: #00af00\">0</span>][<span style=\"color: #00af00; text-decoration-color: #00af00\">0</span>]            │\n",
              "├───────────────────────────┼────────────────────────┼────────────────┼────────────────────────┤\n",
              "│ Bass (<span style=\"color: #0087ff; text-decoration-color: #0087ff\">Dense</span>)              │ (<span style=\"color: #00d7ff; text-decoration-color: #00d7ff\">None</span>, <span style=\"color: #00af00; text-decoration-color: #00af00\">47</span>)             │          <span style=\"color: #00af00; text-decoration-color: #00af00\">6,063</span> │ gru_4[<span style=\"color: #00af00; text-decoration-color: #00af00\">0</span>][<span style=\"color: #00af00; text-decoration-color: #00af00\">0</span>]            │\n",
              "└───────────────────────────┴────────────────────────┴────────────────┴────────────────────────┘\n",
              "</pre>\n"
            ]
          },
          "metadata": {}
        },
        {
          "output_type": "display_data",
          "data": {
            "text/plain": [
              "\u001b[1m Total params: \u001b[0m\u001b[38;5;34m227,126\u001b[0m (887.21 KB)\n"
            ],
            "text/html": [
              "<pre style=\"white-space:pre;overflow-x:auto;line-height:normal;font-family:Menlo,'DejaVu Sans Mono',consolas,'Courier New',monospace\"><span style=\"font-weight: bold\"> Total params: </span><span style=\"color: #00af00; text-decoration-color: #00af00\">227,126</span> (887.21 KB)\n",
              "</pre>\n"
            ]
          },
          "metadata": {}
        },
        {
          "output_type": "display_data",
          "data": {
            "text/plain": [
              "\u001b[1m Trainable params: \u001b[0m\u001b[38;5;34m75,708\u001b[0m (295.73 KB)\n"
            ],
            "text/html": [
              "<pre style=\"white-space:pre;overflow-x:auto;line-height:normal;font-family:Menlo,'DejaVu Sans Mono',consolas,'Courier New',monospace\"><span style=\"font-weight: bold\"> Trainable params: </span><span style=\"color: #00af00; text-decoration-color: #00af00\">75,708</span> (295.73 KB)\n",
              "</pre>\n"
            ]
          },
          "metadata": {}
        },
        {
          "output_type": "display_data",
          "data": {
            "text/plain": [
              "\u001b[1m Non-trainable params: \u001b[0m\u001b[38;5;34m0\u001b[0m (0.00 B)\n"
            ],
            "text/html": [
              "<pre style=\"white-space:pre;overflow-x:auto;line-height:normal;font-family:Menlo,'DejaVu Sans Mono',consolas,'Courier New',monospace\"><span style=\"font-weight: bold\"> Non-trainable params: </span><span style=\"color: #00af00; text-decoration-color: #00af00\">0</span> (0.00 B)\n",
              "</pre>\n"
            ]
          },
          "metadata": {}
        },
        {
          "output_type": "display_data",
          "data": {
            "text/plain": [
              "\u001b[1m Optimizer params: \u001b[0m\u001b[38;5;34m151,418\u001b[0m (591.48 KB)\n"
            ],
            "text/html": [
              "<pre style=\"white-space:pre;overflow-x:auto;line-height:normal;font-family:Menlo,'DejaVu Sans Mono',consolas,'Courier New',monospace\"><span style=\"font-weight: bold\"> Optimizer params: </span><span style=\"color: #00af00; text-decoration-color: #00af00\">151,418</span> (591.48 KB)\n",
              "</pre>\n"
            ]
          },
          "metadata": {}
        }
      ],
      "source": [
        "model.summary()"
      ]
    },
    {
      "cell_type": "code",
      "execution_count": null,
      "metadata": {
        "colab": {
          "base_uri": "https://localhost:8080/"
        },
        "id": "F4eA1xqPDd6P",
        "outputId": "db33cd9f-142c-4b19-b04d-e383f2d86c16"
      },
      "outputs": [
        {
          "output_type": "stream",
          "name": "stdout",
          "text": [
            "\u001b[1m1/1\u001b[0m \u001b[32m━━━━━━━━━━━━━━━━━━━━\u001b[0m\u001b[37m\u001b[0m \u001b[1m0s\u001b[0m 452ms/step\n"
          ]
        },
        {
          "output_type": "execute_result",
          "data": {
            "text/plain": [
              "[array([[-0.53191656, -0.6053057 ,  1.0862056 , -0.4066674 , -1.268135  ,\n",
              "          0.05404644,  0.43945375,  0.38599277,  0.7457645 , -0.02184193,\n",
              "         -0.5039666 , -0.80368584, -0.97894883, -0.13815029,  1.3491976 ,\n",
              "          1.4604381 , -1.938505  ,  2.0643587 , -0.40566838, -0.07356732,\n",
              "          0.22641736,  0.17829508, -1.3105425 ,  2.6628954 ,  0.86669517,\n",
              "         -0.7940904 , -1.1276314 , -1.2021674 , -0.80097646, -1.1769491 ,\n",
              "          1.5408329 ,  1.6979575 , -1.8151451 , -1.7706558 ,  1.8706374 ,\n",
              "          1.5700227 , -1.7751213 ,  1.5991964 , -1.2112186 ,  1.5603408 ,\n",
              "          1.010538  , -1.368912  ,  0.92124957, -1.4224486 , -1.4214777 ,\n",
              "          1.4222974 ,  0.42445254]], dtype=float32),\n",
              " array([[-0.6132755 , -0.6060928 , -0.67128706,  0.7587935 ,  1.1220433 ,\n",
              "         -1.6541151 , -0.16401124, -0.75629866,  0.8631732 ,  0.5108676 ,\n",
              "         -0.23694798, -0.9053274 ,  0.46094954,  0.35731623, -0.05460604,\n",
              "          1.781073  , -0.8090809 ,  3.1090312 , -1.098489  , -0.66858786,\n",
              "          1.3721653 , -0.7378737 , -1.1971881 , -0.73632   , -0.91399384,\n",
              "         -1.6732634 , -1.2917798 , -1.6649219 , -1.2489753 ,  2.1154928 ,\n",
              "          1.9837358 ,  2.1212354 ,  1.8905343 , -1.9072292 ,  2.017872  ,\n",
              "         -1.1402361 , -2.188125  ,  1.384585  ,  1.8559176 , -0.31943572,\n",
              "         -0.25280884,  0.97112733,  0.6407679 , -1.6077384 , -0.81158525,\n",
              "         -0.29831636,  1.1712408 ]], dtype=float32),\n",
              " array([[-1.1821057 ,  1.3744365 ,  0.4944733 ,  0.7174979 ,  1.1605272 ,\n",
              "         -1.095608  , -1.0870188 ,  0.8036817 , -0.26556987,  0.794323  ,\n",
              "          0.2668356 ,  1.5939665 ,  0.86417896, -0.86334085,  0.25856858,\n",
              "          0.6522033 ,  0.806381  , -0.8390654 , -1.8019904 , -0.94143105,\n",
              "         -1.3650599 , -0.71913135, -1.7129109 , -1.2054979 ,  2.1882977 ,\n",
              "         -1.9907211 , -1.6722845 ,  2.7248137 ,  1.3028592 , -1.3684484 ,\n",
              "          1.8185337 ,  1.38807   ,  1.2136023 , -0.6665027 , -2.4389863 ,\n",
              "          0.5329881 ,  0.52000165, -1.1845224 ,  0.9589988 ,  0.05553566,\n",
              "         -1.2399477 , -0.7163659 , -0.9439956 , -0.10960314,  1.195949  ,\n",
              "          0.65009797,  0.9706537 ]], dtype=float32),\n",
              " array([[-0.5275655 , -2.0894914 ,  1.7386403 , -1.307601  , -1.8807449 ,\n",
              "          1.9770117 ,  0.90738827,  2.0116904 ,  1.3927649 , -1.3636737 ,\n",
              "         -3.0646486 ,  1.1052611 ,  1.4980463 ,  1.8623723 ,  1.7498122 ,\n",
              "          1.8929545 ,  1.735229  , -2.622248  , -2.2836194 , -2.6736376 ,\n",
              "          1.7196583 ,  1.3216144 ,  1.6424017 , -1.8847888 ,  0.91693085,\n",
              "         -1.8584095 ,  1.9887018 , -1.0519302 ,  0.48046404,  0.92804986,\n",
              "          1.9640669 , -1.6837661 ,  0.61995107,  0.3985025 ,  0.13181107,\n",
              "          0.06560952,  1.003041  , -0.73572385, -2.2907288 , -1.2510566 ,\n",
              "         -0.97063065,  0.271719  , -2.536232  ,  1.1998572 , -0.09758484,\n",
              "          0.2935141 , -0.9064617 ]], dtype=float32)]"
            ]
          },
          "metadata": {},
          "execution_count": 19
        }
      ],
      "source": [
        "model.predict(X_train[0].reshape(1, -1, 4))"
      ]
    },
    {
      "cell_type": "code",
      "execution_count": null,
      "metadata": {
        "id": "vOnljnCYBwsT"
      },
      "outputs": [],
      "source": [
        "def generate_notes(notes, num_notes):\n",
        "  for _ in range(num_notes):\n",
        "    pred = model.predict(notes.reshape(1, -1, 4), verbose=0)\n",
        "    next_notes = []\n",
        "    for i in range(4):\n",
        "      next_note = tf.random.categorical(tf.math.log(pred[i]), num_samples=1)\n",
        "      print(next_note)\n",
        "      next_note = next_note.numpy().item()\n",
        "      next_notes.append(next_note)\n",
        "    notes = np.vstack([notes, [next_notes]])\n",
        "    # print(pred)\n",
        "  return notes"
      ]
    },
    {
      "cell_type": "code",
      "source": [
        "epsilon = 1e-10  # Small constant to avoid log(0)\n",
        "\n",
        "for i in range(100, 110):\n",
        "    pred = model.predict(X_test[-i].reshape(1, -1, 4))\n",
        "    # Add epsilon to avoid log(0)\n",
        "    log_pred = tf.math.log(pred + epsilon)\n",
        "    print(log_pred)"
      ],
      "metadata": {
        "colab": {
          "base_uri": "https://localhost:8080/",
          "height": 211
        },
        "id": "V3sBnsp21tf9",
        "outputId": "283f341d-f556-4610-d45a-7950f6b5163d"
      },
      "execution_count": null,
      "outputs": [
        {
          "output_type": "stream",
          "name": "stdout",
          "text": [
            "\u001b[1m1/1\u001b[0m \u001b[32m━━━━━━━━━━━━━━━━━━━━\u001b[0m\u001b[37m\u001b[0m \u001b[1m0s\u001b[0m 176ms/step\n"
          ]
        },
        {
          "output_type": "error",
          "ename": "TypeError",
          "evalue": "can only concatenate list (not \"float\") to list",
          "traceback": [
            "\u001b[0;31m---------------------------------------------------------------------------\u001b[0m",
            "\u001b[0;31mTypeError\u001b[0m                                 Traceback (most recent call last)",
            "\u001b[0;32m<ipython-input-55-9ce6704f659b>\u001b[0m in \u001b[0;36m<cell line: 0>\u001b[0;34m()\u001b[0m\n\u001b[1;32m      4\u001b[0m     \u001b[0mpred\u001b[0m \u001b[0;34m=\u001b[0m \u001b[0mmodel\u001b[0m\u001b[0;34m.\u001b[0m\u001b[0mpredict\u001b[0m\u001b[0;34m(\u001b[0m\u001b[0mX_test\u001b[0m\u001b[0;34m[\u001b[0m\u001b[0;34m-\u001b[0m\u001b[0mi\u001b[0m\u001b[0;34m]\u001b[0m\u001b[0;34m.\u001b[0m\u001b[0mreshape\u001b[0m\u001b[0;34m(\u001b[0m\u001b[0;36m1\u001b[0m\u001b[0;34m,\u001b[0m \u001b[0;34m-\u001b[0m\u001b[0;36m1\u001b[0m\u001b[0;34m,\u001b[0m \u001b[0;36m4\u001b[0m\u001b[0;34m)\u001b[0m\u001b[0;34m)\u001b[0m\u001b[0;34m\u001b[0m\u001b[0;34m\u001b[0m\u001b[0m\n\u001b[1;32m      5\u001b[0m     \u001b[0;31m# Add epsilon to avoid log(0)\u001b[0m\u001b[0;34m\u001b[0m\u001b[0;34m\u001b[0m\u001b[0m\n\u001b[0;32m----> 6\u001b[0;31m     \u001b[0mlog_pred\u001b[0m \u001b[0;34m=\u001b[0m \u001b[0mtf\u001b[0m\u001b[0;34m.\u001b[0m\u001b[0mmath\u001b[0m\u001b[0;34m.\u001b[0m\u001b[0mlog\u001b[0m\u001b[0;34m(\u001b[0m\u001b[0mpred\u001b[0m \u001b[0;34m+\u001b[0m \u001b[0mepsilon\u001b[0m\u001b[0;34m)\u001b[0m\u001b[0;34m\u001b[0m\u001b[0;34m\u001b[0m\u001b[0m\n\u001b[0m\u001b[1;32m      7\u001b[0m     \u001b[0mprint\u001b[0m\u001b[0;34m(\u001b[0m\u001b[0mlog_pred\u001b[0m\u001b[0;34m)\u001b[0m\u001b[0;34m\u001b[0m\u001b[0;34m\u001b[0m\u001b[0m\n",
            "\u001b[0;31mTypeError\u001b[0m: can only concatenate list (not \"float\") to list"
          ]
        }
      ]
    },
    {
      "cell_type": "code",
      "execution_count": null,
      "metadata": {
        "id": "gxKdkw6lCp59",
        "colab": {
          "base_uri": "https://localhost:8080/"
        },
        "outputId": "7b933602-29c0-415a-9852-7d0cf6398432"
      },
      "outputs": [
        {
          "output_type": "stream",
          "name": "stdout",
          "text": [
            "tf.Tensor([[45]], shape=(1, 1), dtype=int64)\n",
            "tf.Tensor([[37]], shape=(1, 1), dtype=int64)\n",
            "tf.Tensor([[16]], shape=(1, 1), dtype=int64)\n",
            "tf.Tensor([[20]], shape=(1, 1), dtype=int64)\n"
          ]
        }
      ],
      "source": [
        "generation = generate_notes(X_test[-100], 1)\n",
        "# print(generation)"
      ]
    },
    {
      "cell_type": "code",
      "execution_count": null,
      "metadata": {
        "id": "6Q9I0XEYttcZ"
      },
      "outputs": [],
      "source": [
        "save_path_2 = '/content/drive/MyDrive/Junior Research Project/bach_chorales/bach_chorlaes_generation.csv'\n",
        "df = pd.DataFrame(generation)\n",
        "df.to_csv(save_path_2, index=False, header=False)"
      ]
    },
    {
      "cell_type": "code",
      "execution_count": null,
      "metadata": {
        "id": "ZfosiCNDruxE"
      },
      "outputs": [],
      "source": [
        "import csv\n",
        "import numpy as np\n",
        "from mido import Message, MidiFile, MidiTrack\n",
        "import argparse\n",
        "import tempfile\n",
        "import shutil\n",
        "import tarfile\n",
        "import requests\n",
        "from io import BytesIO\n",
        "\n",
        "def csv_to_midi(csv_file, midi_file, tempo=120):\n",
        "\t\t\"\"\"Convert a CSV file from the JSB Chorales dataset to MIDI.\"\"\"\n",
        "\t\t# Create a new MIDI file with a single track\n",
        "\t\tmid = MidiFile()\n",
        "\t\ttrack = MidiTrack()\n",
        "\t\tmid.tracks.append(track)\n",
        "\n",
        "\t\t# Set tempo (500000 microseconds per beat = 120 BPM)\n",
        "\t\ttempo_value = 500000  # in microseconds per beat\n",
        "\t\ttrack.append(Message('program_change', program=0, time=0))  # Piano\n",
        "\n",
        "\t\t# Read the CSV file\n",
        "\t\twith open(csv_file, 'r') as f:\n",
        "\t\t\treader = csv.reader(f)\n",
        "\t\t\tfirst_line = next(reader, None)\n",
        "\t\t\tchorale = np.array([list(map(float, row)) for row in reader])\n",
        "\n",
        "\t\t# Each row in the CSV represents a time step (e.g., a 16th note)\n",
        "\t\t# Each column represents a voice (soprano, alto, tenor, bass)\n",
        "\t\t# The values represent MIDI note numbers\n",
        "\n",
        "\t\tticks_per_beat = mid.ticks_per_beat\n",
        "\t\t# Let's use 16th notes (1/4 of a beat)\n",
        "\t\tticks_per_step = ticks_per_beat // 4\n",
        "\n",
        "\t\t# Process each time step\n",
        "\t\tactive_notes = {}  # To keep track of currently playing notes\n",
        "\n",
        "\t\tvelocity = 100\n",
        "\t\tprev_notes = [0,0,0,0]\n",
        "\t\tnow = 0\n",
        "\t\tlast_event = 0\n",
        "\t\tfor step, notes in enumerate(chorale):\n",
        "\t\t\t\t# Process each voice\n",
        "\t\t\t\tfor voice, note in enumerate(notes):\n",
        "\t\t\t\t\t\tnote_id = (voice, note)\n",
        "\n",
        "\t\t\t\t\t\t# Convert to integer MIDI note number\n",
        "\t\t\t\t\t\tmidi_note = int(note)\n",
        "\t\t\t\t\t\tif midi_note == prev_notes[voice]:\n",
        "\t\t\t\t\t\t\t\tpass\n",
        "\t\t\t\t\t\telse:\n",
        "\t\t\t\t\t\t\t\ttrack.append(Message('note_off', note=prev_notes[voice], velocity=0,\n",
        "\t\t\t\t\t\t\t\t\t\t\t\t\t\t\t\ttime=now-last_event, channel=voice % 16))\n",
        "\t\t\t\t\t\t\t\ttrack.append(Message('note_on', note=midi_note, velocity=velocity,\n",
        "\t\t\t\t\t\t\t\t\t\t\t\t\t\t\t\ttime=0, channel=voice % 16))\n",
        "\t\t\t\t\t\t\t\tlast_event = now\n",
        "\t\t\t\t\t\tprev_notes[voice] = midi_note\n",
        "\t\t\t\tnow = now + ticks_per_step\n",
        "\n",
        "\t\t# Save the MIDI file\n",
        "\t\tmid.save(midi_file)\n",
        "\t\tprint(f\"Saved MIDI file to {midi_file}\")"
      ]
    },
    {
      "cell_type": "code",
      "execution_count": null,
      "metadata": {
        "colab": {
          "base_uri": "https://localhost:8080/"
        },
        "id": "LJczVdzQrvEK",
        "outputId": "c7387bd9-b852-4354-d2a5-31da78d6837b"
      },
      "outputs": [
        {
          "name": "stdout",
          "output_type": "stream",
          "text": [
            "Saved MIDI file to /content/drive/MyDrive/Junior Research Project/bach_chorales/bach_chorales_song.mid\n"
          ]
        }
      ],
      "source": [
        "save_path_3 = '/content/drive/MyDrive/Junior Research Project/bach_chorales/bach_chorales_song.mid'\n",
        "csv_to_midi(save_path_2, save_path_3)"
      ]
    }
  ],
  "metadata": {
    "colab": {
      "provenance": [],
      "authorship_tag": "ABX9TyOJFNBpOPEexrln6yW1Q7Sr",
      "include_colab_link": true
    },
    "kernelspec": {
      "display_name": "Python 3",
      "name": "python3"
    },
    "language_info": {
      "name": "python"
    }
  },
  "nbformat": 4,
  "nbformat_minor": 0
}